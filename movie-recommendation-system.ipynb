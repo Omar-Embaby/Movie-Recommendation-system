{
 "cells": [
  {
   "cell_type": "markdown",
   "metadata": {},
   "source": [
    "## Recommender Systems (Movie/Web Show Recommendation)"
   ]
  },
  {
   "cell_type": "markdown",
   "metadata": {},
   "source": [
    "### Step 1: Retrieving the Data"
   ]
  },
  {
   "cell_type": "code",
   "execution_count": 1,
   "metadata": {},
   "outputs": [],
   "source": [
    "#!pip install scikit-surprise\n",
    "import pandas as pd\n",
    "import numpy as np\n",
    "from scipy.sparse import csr_matrix\n",
    "from sklearn.metrics.pairwise import cosine_similarity\n",
    "import seaborn as sns\n",
    "import matplotlib.pyplot as plt\n",
    "from surprise import Dataset, Reader, SVD\n",
    "from surprise.model_selection import train_test_split\n",
    "from surprise import accuracy\n",
    "from surprise.prediction_algorithms.knns import KNNBasic\n",
    "from collections import defaultdict"
   ]
  },
  {
   "cell_type": "code",
   "execution_count": 2,
   "metadata": {},
   "outputs": [
    {
     "name": "stdout",
     "output_type": "stream",
     "text": [
      "<class 'pandas.core.frame.DataFrame'>\n",
      "RangeIndex: 10329 entries, 0 to 10328\n",
      "Data columns (total 3 columns):\n",
      " #   Column   Non-Null Count  Dtype \n",
      "---  ------   --------------  ----- \n",
      " 0   movieId  10329 non-null  int64 \n",
      " 1   title    10329 non-null  object\n",
      " 2   genres   10329 non-null  object\n",
      "dtypes: int64(1), object(2)\n",
      "memory usage: 242.2+ KB\n",
      "None\n",
      "             movieId\n",
      "count   10329.000000\n",
      "mean    31924.282893\n",
      "std     37734.741149\n",
      "min         1.000000\n",
      "25%      3240.000000\n",
      "50%      7088.000000\n",
      "75%     59900.000000\n",
      "max    149532.000000\n",
      "   movieId                               title  \\\n",
      "0        1                    Toy Story (1995)   \n",
      "1        2                      Jumanji (1995)   \n",
      "2        3             Grumpier Old Men (1995)   \n",
      "3        4            Waiting to Exhale (1995)   \n",
      "4        5  Father of the Bride Part II (1995)   \n",
      "\n",
      "                                        genres  \n",
      "0  Adventure|Animation|Children|Comedy|Fantasy  \n",
      "1                   Adventure|Children|Fantasy  \n",
      "2                               Comedy|Romance  \n",
      "3                         Comedy|Drama|Romance  \n",
      "4                                       Comedy  \n",
      "              userId        movieId         rating     timestamp\n",
      "count  105339.000000  105339.000000  105339.000000  1.053390e+05\n",
      "mean      364.924539   13381.312477       3.516850  1.130424e+09\n",
      "std       197.486905   26170.456869       1.044872  1.802660e+08\n",
      "min         1.000000       1.000000       0.500000  8.285650e+08\n",
      "25%       192.000000    1073.000000       3.000000  9.711008e+08\n",
      "50%       383.000000    2497.000000       3.500000  1.115154e+09\n",
      "75%       557.000000    5991.000000       4.000000  1.275496e+09\n",
      "max       668.000000  149532.000000       5.000000  1.452405e+09\n",
      "   userId  movieId  rating   timestamp\n",
      "0       1       16     4.0  1217897793\n",
      "1       1       24     1.5  1217895807\n",
      "2       1       32     4.0  1217896246\n",
      "3       1       47     4.0  1217896556\n",
      "4       1       50     4.0  1217896523\n"
     ]
    }
   ],
   "source": [
    "# Read the data\n",
    "movie_data = pd.read_csv('IMDB-Dataset/movies.csv')\n",
    "rating_data = pd.read_csv('IMDB-Dataset/ratings.csv')\n",
    "\n",
    "# Display structure and summary\n",
    "print(movie_data.info())\n",
    "print(movie_data.describe())\n",
    "print(movie_data.head())\n",
    "\n",
    "print(rating_data.describe())\n",
    "print(rating_data.head())"
   ]
  },
  {
   "cell_type": "markdown",
   "metadata": {},
   "source": [
    "### Step 2: Data Pre-processing"
   ]
  },
  {
   "cell_type": "code",
   "execution_count": 3,
   "metadata": {},
   "outputs": [
    {
     "name": "stdout",
     "output_type": "stream",
     "text": [
      "   (no genres listed)  Action  Adventure  Animation  Children  Comedy  Crime  \\\n",
      "0                   0       0          1          1         1       1      0   \n",
      "1                   0       0          1          0         1       0      0   \n",
      "2                   0       0          0          0         0       1      0   \n",
      "3                   0       0          0          0         0       1      0   \n",
      "4                   0       0          0          0         0       1      0   \n",
      "\n",
      "   Documentary  Drama  Fantasy  Film-Noir  Horror  IMAX  Musical  Mystery  \\\n",
      "0            0      0        1          0       0     0        0        0   \n",
      "1            0      0        1          0       0     0        0        0   \n",
      "2            0      0        0          0       0     0        0        0   \n",
      "3            0      1        0          0       0     0        0        0   \n",
      "4            0      0        0          0       0     0        0        0   \n",
      "\n",
      "   Romance  Sci-Fi  Thriller  War  Western  \n",
      "0        0       0         0    0        0  \n",
      "1        0       0         0    0        0  \n",
      "2        1       0         0    0        0  \n",
      "3        1       0         0    0        0  \n",
      "4        0       0         0    0        0  \n",
      "<class 'pandas.core.frame.DataFrame'>\n",
      "RangeIndex: 10329 entries, 0 to 10328\n",
      "Data columns (total 20 columns):\n",
      " #   Column              Non-Null Count  Dtype\n",
      "---  ------              --------------  -----\n",
      " 0   (no genres listed)  10329 non-null  int64\n",
      " 1   Action              10329 non-null  int64\n",
      " 2   Adventure           10329 non-null  int64\n",
      " 3   Animation           10329 non-null  int64\n",
      " 4   Children            10329 non-null  int64\n",
      " 5   Comedy              10329 non-null  int64\n",
      " 6   Crime               10329 non-null  int64\n",
      " 7   Documentary         10329 non-null  int64\n",
      " 8   Drama               10329 non-null  int64\n",
      " 9   Fantasy             10329 non-null  int64\n",
      " 10  Film-Noir           10329 non-null  int64\n",
      " 11  Horror              10329 non-null  int64\n",
      " 12  IMAX                10329 non-null  int64\n",
      " 13  Musical             10329 non-null  int64\n",
      " 14  Mystery             10329 non-null  int64\n",
      " 15  Romance             10329 non-null  int64\n",
      " 16  Sci-Fi              10329 non-null  int64\n",
      " 17  Thriller            10329 non-null  int64\n",
      " 18  War                 10329 non-null  int64\n",
      " 19  Western             10329 non-null  int64\n",
      "dtypes: int64(20)\n",
      "memory usage: 1.6 MB\n",
      "None\n",
      "   movieId                               title  (no genres listed)  Action  \\\n",
      "0        1                    Toy Story (1995)                   0       0   \n",
      "1        2                      Jumanji (1995)                   0       0   \n",
      "2        3             Grumpier Old Men (1995)                   0       0   \n",
      "3        4            Waiting to Exhale (1995)                   0       0   \n",
      "4        5  Father of the Bride Part II (1995)                   0       0   \n",
      "\n",
      "   Adventure  Animation  Children  Comedy  Crime  Documentary  ...  Film-Noir  \\\n",
      "0          1          1         1       1      0            0  ...          0   \n",
      "1          1          0         1       0      0            0  ...          0   \n",
      "2          0          0         0       1      0            0  ...          0   \n",
      "3          0          0         0       1      0            0  ...          0   \n",
      "4          0          0         0       1      0            0  ...          0   \n",
      "\n",
      "   Horror  IMAX  Musical  Mystery  Romance  Sci-Fi  Thriller  War  Western  \n",
      "0       0     0        0        0        0       0         0    0        0  \n",
      "1       0     0        0        0        0       0         0    0        0  \n",
      "2       0     0        0        0        1       0         0    0        0  \n",
      "3       0     0        0        0        1       0         0    0        0  \n",
      "4       0     0        0        0        0       0         0    0        0  \n",
      "\n",
      "[5 rows x 22 columns]\n"
     ]
    }
   ],
   "source": [
    "# One-hot encoding for genres\n",
    "genres = movie_data['genres'].str.get_dummies('|')\n",
    "print(genres.head())\n",
    "\n",
    "# Check structure of the new genre matrix\n",
    "print(genres.info())\n",
    "\n",
    "# Create a search matrix\n",
    "search_matrix = pd.concat([movie_data[['movieId', 'title']], genres], axis=1)\n",
    "print(search_matrix.head())"
   ]
  },
  {
   "cell_type": "markdown",
   "metadata": {},
   "source": [
    "### Step 3: Creating Rating Matrix"
   ]
  },
  {
   "cell_type": "code",
   "execution_count": 4,
   "metadata": {},
   "outputs": [
    {
     "name": "stdout",
     "output_type": "stream",
     "text": [
      "  (0, 15)\t4.0\n",
      "  (0, 23)\t1.5\n",
      "  (0, 31)\t4.0\n",
      "  (0, 44)\t4.0\n",
      "  (0, 47)\t4.0\n",
      "  (0, 98)\t4.0\n",
      "  (0, 126)\t3.0\n",
      "  (0, 137)\t4.0\n",
      "  (0, 141)\t3.0\n",
      "  (0, 176)\t0.5\n",
      "  (0, 194)\t4.0\n",
      "  (0, 226)\t0.5\n",
      "  (0, 230)\t4.5\n",
      "  (0, 231)\t1.5\n",
      "  (0, 246)\t0.5\n",
      "  (0, 260)\t4.0\n",
      "  (0, 279)\t4.0\n",
      "  (0, 309)\t4.5\n",
      "  (0, 316)\t3.0\n",
      "  (0, 336)\t2.5\n",
      "  (0, 339)\t3.0\n",
      "  (0, 405)\t4.0\n",
      "  (0, 426)\t3.5\n",
      "  (0, 471)\t4.5\n",
      "  (0, 522)\t3.5\n",
      "  :\t:\n",
      "  (667, 10228)\t3.5\n",
      "  (667, 10230)\t3.5\n",
      "  (667, 10231)\t2.0\n",
      "  (667, 10232)\t2.5\n",
      "  (667, 10233)\t3.5\n",
      "  (667, 10234)\t3.0\n",
      "  (667, 10240)\t3.0\n",
      "  (667, 10245)\t2.5\n",
      "  (667, 10247)\t4.0\n",
      "  (667, 10248)\t3.5\n",
      "  (667, 10252)\t3.0\n",
      "  (667, 10254)\t3.0\n",
      "  (667, 10263)\t4.0\n",
      "  (667, 10271)\t4.0\n",
      "  (667, 10276)\t2.0\n",
      "  (667, 10277)\t2.5\n",
      "  (667, 10283)\t4.0\n",
      "  (667, 10286)\t2.5\n",
      "  (667, 10295)\t2.5\n",
      "  (667, 10299)\t2.5\n",
      "  (667, 10303)\t4.0\n",
      "  (667, 10304)\t3.5\n",
      "  (667, 10312)\t4.0\n",
      "  (667, 10317)\t2.5\n",
      "  (667, 10323)\t4.5\n"
     ]
    }
   ],
   "source": [
    "# Pivot rating data to create matrix\n",
    "rating_matrix = rating_data.pivot(index='userId', columns='movieId', values='rating').fillna(0)\n",
    "\n",
    "# Convert to sparse matrix\n",
    "rating_matrix_sparse = csr_matrix(rating_matrix.values)\n",
    "print(rating_matrix_sparse)"
   ]
  },
  {
   "cell_type": "markdown",
   "metadata": {},
   "source": [
    "### Step 4: Exploring Similar Data"
   ]
  },
  {
   "cell_type": "code",
   "execution_count": 5,
   "metadata": {},
   "outputs": [
    {
     "data": {
      "image/png": "[encoded data removed]",
      "text/plain": [
       "<Figure size 640x480 with 2 Axes>"
      ]
     },
     "metadata": {},
     "output_type": "display_data"
    }
   ],
   "source": [
    "# Compute user similarities\n",
    "user_similarities = cosine_similarity(rating_matrix_sparse)\n",
    "user_similarities = pd.DataFrame(user_similarities, index=rating_matrix.index, columns=rating_matrix.index)\n",
    "\n",
    "# Visualize user similarities\n",
    "sns.heatmap(user_similarities.iloc[:4, :4], annot=True)\n",
    "plt.title(\"User's Similarities\")\n",
    "plt.show()"
   ]
  },
  {
   "cell_type": "markdown",
   "metadata": {},
   "source": [
    "### Step 5: Most Viewed Movies Visualization"
   ]
  },
  {
   "cell_type": "code",
   "execution_count": 6,
   "metadata": {},
   "outputs": [
    {
     "name": "stdout",
     "output_type": "stream",
     "text": [
      "     movieId  views                                      title\n",
      "260      296    325                        Pulp Fiction (1994)\n",
      "316      356    311                        Forrest Gump (1994)\n",
      "279      318    308           Shawshank Redemption, The (1994)\n",
      "426      480    294                       Jurassic Park (1993)\n",
      "525      593    290           Silence of the Lambs, The (1991)\n",
      "230      260    273  Star Wars: Episode IV - A New Hope (1977)\n"
     ]
    },
    {
     "data": {
      "image/png": "[encoded data removed]",
      "text/plain": [
       "<Figure size 1000x500 with 1 Axes>"
      ]
     },
     "metadata": {},
     "output_type": "display_data"
    }
   ],
   "source": [
    "# Count movie views\n",
    "movie_views = rating_matrix.astype(bool).sum(axis=0)\n",
    "table_views = movie_views.reset_index().rename(columns={0: 'views'})\n",
    "table_views = table_views.sort_values(by='views', ascending=False)\n",
    "\n",
    "# Add movie titles\n",
    "table_views['title'] = table_views['movieId'].apply(lambda x: movie_data.loc[movie_data['movieId'] == x, 'title'].values[0])\n",
    "\n",
    "print(table_views.head(6))\n",
    "\n",
    "# Plotting the most viewed movies\n",
    "top_movies = table_views.head(6)\n",
    "plt.figure(figsize=(10, 5))\n",
    "sns.barplot(x='title', y='views', data=top_movies, palette='Blues_d')\n",
    "plt.xticks(rotation=45)\n",
    "plt.title('Total Views of the Top Films')\n",
    "plt.show()"
   ]
  },
  {
   "cell_type": "markdown",
   "metadata": {},
   "source": [
    "### Step 6: Building the Recommendation System"
   ]
  },
  {
   "cell_type": "code",
   "execution_count": 7,
   "metadata": {},
   "outputs": [
    {
     "name": "stdout",
     "output_type": "stream",
     "text": [
      "Computing the msd similarity matrix...\n",
      "Done computing similarity matrix.\n",
      "RMSE: 0.9190\n",
      "Top 10 recommendations for user 668:\n",
      "MovieID: 4432, Estimated Rating: 3.75\n",
      "MovieID: 7218, Estimated Rating: 3.6625\n",
      "MovieID: 668, Estimated Rating: 3.6125\n",
      "MovieID: 40414, Estimated Rating: 3.6010638297872344\n",
      "MovieID: 7070, Estimated Rating: 3.5875\n",
      "MovieID: 8712, Estimated Rating: 3.5618279569892475\n",
      "MovieID: 7211, Estimated Rating: 3.5618279569892475\n",
      "MovieID: 37113, Estimated Rating: 3.518001447710363\n",
      "MovieID: 105211, Estimated Rating: 3.518001447710363\n",
      "MovieID: 95613, Estimated Rating: 3.518001447710363\n"
     ]
    }
   ],
   "source": [
    "# Load data into surprise format\n",
    "reader = Reader(rating_scale=(0.5, 5))\n",
    "data = Dataset.load_from_df(rating_data[['userId', 'movieId', 'rating']], reader)\n",
    "\n",
    "# Split data into training and test set\n",
    "trainset, testset = train_test_split(data, test_size=0.2)\n",
    "\n",
    "# Train the model using Item-based Collaborative Filtering\n",
    "algo = KNNBasic(sim_options={'user_based': False})\n",
    "algo.fit(trainset)\n",
    "\n",
    "# Make predictions\n",
    "predictions = algo.test(testset)\n",
    "accuracy.rmse(predictions)\n",
    "\n",
    "# Get top recommendations for a user\n",
    "def get_top_n_recommendations(predictions, n=10):\n",
    "    # First map the predictions to each user.\n",
    "    top_n = {}\n",
    "    for uid, iid, true_r, est, _ in predictions:\n",
    "        if uid not in top_n:\n",
    "            top_n[uid] = []\n",
    "        top_n[uid].append((iid, est))\n",
    "    \n",
    "    # Then sort the predictions for each user and retrieve the n highest ones.\n",
    "    for uid, user_ratings in top_n.items():\n",
    "        user_ratings.sort(key=lambda x: x[1], reverse=True)\n",
    "        top_n[uid] = user_ratings[:n]\n",
    "    \n",
    "    return top_n\n",
    "\n",
    "# Get top 10 recommendations for all users\n",
    "top_n = get_top_n_recommendations(predictions, n=10)\n",
    "\n",
    "# Display recommendations for the first user in the dataset\n",
    "first_user = list(top_n.keys())[0]\n",
    "print(f\"Top 10 recommendations for user {first_user}:\")\n",
    "for movie_id, estimated_rating in top_n[first_user]:\n",
    "    print(f\"MovieID: {movie_id}, Estimated Rating: {estimated_rating}\")\n"
   ]
  },
  {
   "cell_type": "markdown",
   "metadata": {},
   "source": [
    "### Map Movie IDs to Movie Titles:\n",
    "You will likely want to map the movie IDs back to their titles to make the recommendations more understandable."
   ]
  },
  {
   "cell_type": "code",
   "execution_count": 8,
   "metadata": {},
   "outputs": [
    {
     "name": "stdout",
     "output_type": "stream",
     "text": [
      "Top 10 recommendations for user 668:\n",
      "MovieID: 4432, Title: Sweet Smell of Success (1957), Estimated Rating: 3.75\n",
      "MovieID: 7218, Title: Ox-Bow Incident, The (1943), Estimated Rating: 3.6625\n",
      "MovieID: 668, Title: Song of the Little Road (Pather Panchali) (1955), Estimated Rating: 3.6125\n",
      "MovieID: 40414, Title: Joyeux Noël (Merry Christmas) (2005), Estimated Rating: 3.6010638297872344\n",
      "MovieID: 7070, Title: Red River (1948), Estimated Rating: 3.5875\n",
      "MovieID: 8712, Title: My Favorite Wife (1940), Estimated Rating: 3.5618279569892475\n",
      "MovieID: 7211, Title: People Will Talk (1951), Estimated Rating: 3.5618279569892475\n",
      "MovieID: 37113, Title: Golden Boy (1939), Estimated Rating: 3.518001447710363\n",
      "MovieID: 105211, Title: Enough Said (2013), Estimated Rating: 3.518001447710363\n",
      "MovieID: 95613, Title: Union, The (2011), Estimated Rating: 3.518001447710363\n"
     ]
    }
   ],
   "source": [
    "# Create a mapping of movieId to movieTitle\n",
    "id_to_title = pd.Series(movie_data.title.values, index=movie_data.movieId).to_dict()\n",
    "\n",
    "# Display recommendations with movie titles for the first user\n",
    "print(f\"Top 10 recommendations for user {first_user}:\")\n",
    "for movie_id, estimated_rating in top_n[first_user]:\n",
    "    print(f\"MovieID: {movie_id}, Title: {id_to_title[movie_id]}, Estimated Rating: {estimated_rating}\")\n"
   ]
  },
  {
   "cell_type": "markdown",
   "metadata": {},
   "source": [
    "### Evaluate Other Metrics (Optional):\n",
    "Besides RMSE, you might want to evaluate your model using other metrics like Precision, Recall, or F1-score."
   ]
  },
  {
   "cell_type": "code",
   "execution_count": 9,
   "metadata": {},
   "outputs": [
    {
     "name": "stdout",
     "output_type": "stream",
     "text": [
      "Precision: 0.7739, Recall: 0.5354\n"
     ]
    }
   ],
   "source": [
    "def precision_recall_at_k(predictions, k=10, threshold=3.5):\n",
    "    '''Return precision and recall at k metrics for each user.'''\n",
    "    # First map the predictions to each user.\n",
    "    user_est_true = defaultdict(list)\n",
    "    for uid, iid, true_r, est, _ in predictions:\n",
    "        user_est_true[uid].append((est, true_r))\n",
    "    \n",
    "    precisions = {}\n",
    "    recalls = {}\n",
    "    for uid, user_ratings in user_est_true.items():\n",
    "        # Sort user ratings by estimated value\n",
    "        user_ratings.sort(key=lambda x: x[0], reverse=True)\n",
    "        \n",
    "        # Number of relevant items\n",
    "        n_rel = sum((true_r >= threshold) for (_, true_r) in user_ratings)\n",
    "        \n",
    "        # Number of recommended items in top k\n",
    "        n_rec_k = sum((est >= threshold) for (est, _) in user_ratings[:k])\n",
    "        \n",
    "        # Number of relevant and recommended items in top k\n",
    "        n_rel_and_rec_k = sum(((true_r >= threshold) and (est >= threshold)) for (est, true_r) in user_ratings[:k])\n",
    "        \n",
    "        # Precision@K: Proportion of recommended items that are relevant\n",
    "        precisions[uid] = n_rel_and_rec_k / n_rec_k if n_rec_k != 0 else 1\n",
    "        \n",
    "        # Recall@K: Proportion of relevant items that are recommended\n",
    "        recalls[uid] = n_rel_and_rec_k / n_rel if n_rel != 0 else 1\n",
    "    \n",
    "    # Average precision and recall\n",
    "    avg_precision = sum(prec for prec in precisions.values()) / len(precisions)\n",
    "    avg_recall = sum(rec for rec in recalls.values()) / len(recalls)\n",
    "    \n",
    "    return avg_precision, avg_recall\n",
    "\n",
    "# Calculate precision and recall at k\n",
    "precision, recall = precision_recall_at_k(predictions, k=10, threshold=3.5)\n",
    "print(f'Precision: {precision:.4f}, Recall: {recall:.4f}')\n"
   ]
  }
 ],
 "metadata": {
  "kernelspec": {
   "display_name": "base",
   "language": "python",
   "name": "python3"
  },
  "language_info": {
   "codemirror_mode": {
    "name": "ipython",
    "version": 3
   },
   "file_extension": ".py",
   "mimetype": "text/x-python",
   "name": "python",
   "nbconvert_exporter": "python",
   "pygments_lexer": "ipython3",
   "version": "3.11.7"
  }
 },
 "nbformat": 4,
 "nbformat_minor": 2
}
